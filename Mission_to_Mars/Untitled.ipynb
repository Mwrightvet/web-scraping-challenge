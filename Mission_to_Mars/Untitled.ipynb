{
 "cells": [
  {
   "cell_type": "code",
   "execution_count": 1,
   "metadata": {},
   "outputs": [],
   "source": [
    "import pymongo\n"
   ]
  },
  {
   "cell_type": "code",
   "execution_count": null,
   "metadata": {},
   "outputs": [],
   "source": [
    "# Select database and collection to use\n",
    "db = client.store_inventory\n",
    "collection = db.produce\n"
   ]
  },
  {
   "cell_type": "code",
   "execution_count": null,
   "metadata": {},
   "outputs": [],
   "source": [
    " \n",
    "# Setup connection to mongodb\n",
    "conn = \"mongodb://localhost:27017\"\n",
    "client = pymongo.MongoClient(conn)\n",
    "\n"
   ]
  },
  {
   "cell_type": "code",
   "execution_count": null,
   "metadata": {},
   "outputs": [],
   "source": [
    "# Example:\n",
    "news_title = \"NASA's Next Mars Mission to Investigate Interior of Red Planet\"\n",
    "\n",
    "news_p = \"Preparation of NASA's next spacecraft to Mars, InSight, has ramped up this summer, on course for launch next May from Vandenberg Air Force Base in central California -- the first interplanetary launch in history from America's West Coast.\"\n"
   ]
  },
  {
   "cell_type": "code",
   "execution_count": null,
   "metadata": {},
   "outputs": [],
   "source": [
    "# Select database and collection to use\n",
    "db = client.store_inventory\n",
    "collection = db.produce\n",
    "\n",
    "db.collection.insert_many(\n",
    "    [\n",
    "        {\n",
    "            \"type\": \"apples\",\n",
    "            \"cost\": .23,\n",
    "            \"stock\": 333\n",
    "        },\n",
    "        {\n",
    "            \"type\": \"oranges\",\n",
    "            \"cost\": .45,\n",
    "            \"stock\": 30\n",
    "        },\n",
    "        {\n",
    "            \"type\": \"kiwi\",\n",
    "            \"cost\": .10,\n",
    "            \"stock\": 1000\n",
    "        },\n",
    "        {\n",
    "            \"type\": \"mango\",\n",
    "            \"cost\": 1.30,\n",
    "            \"stock\": 20\n",
    "        },\n",
    "        {\n",
    "            \"type\": \"berries\",\n",
    "            \"cost\": 2.99,\n",
    "            \"stock\": 99\n",
    "        }\n",
    "    ]\n",
    ")\n",
    "\n",
    "print(\"Data Uploaded!\")\n"
   ]
  }
 ],
 "metadata": {
  "kernelspec": {
   "display_name": "Python 3",
   "language": "python",
   "name": "python3"
  },
  "language_info": {
   "codemirror_mode": {
    "name": "ipython",
    "version": 3
   },
   "file_extension": ".py",
   "mimetype": "text/x-python",
   "name": "python",
   "nbconvert_exporter": "python",
   "pygments_lexer": "ipython3",
   "version": "3.7.4"
  }
 },
 "nbformat": 4,
 "nbformat_minor": 2
}
